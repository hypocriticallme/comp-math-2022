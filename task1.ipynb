{
 "cells": [
  {
   "cell_type": "markdown",
   "metadata": {},
   "source": [
    "## Практическая работа №1: Исследование алгоритмов формирования аддитивных цепочек\n",
    "\n",
    "Выполнил студент гр.0391 Варик Александр, вариант 54"
   ]
  },
  {
   "cell_type": "markdown",
   "metadata": {},
   "source": [
    "## Цель работы\n",
    "\n",
    "Формирование представления о аддитивных цепочках, выработать умение составлять и применять алгоритмы для нахождения минимальных аддитивных цепочек для заданного числа, привить навык использования систем компьютерной математики для реализации алгоритмов."
   ]
  },
  {
   "cell_type": "markdown",
   "metadata": {},
   "source": [
    "## Основные теоретические положения\n",
    "\n",
    "Аддитивная цепочка - последовательность натуральных чисел от $1$ до $n$, где каждый элемент равен сумме каких-либо двух предыдущих элементов.\n",
    "\n",
    "**Свойства аддитивных цепочек:**\n",
    "\n",
    "    -Полагается, что все аддитивные цепочки - возрастающие.\n",
    "\n",
    "    -Если два числа из последовательности совпадают, то одно из них может быть опущено.\n",
    "\n",
    "**Виды шагов:**\n",
    "\n",
    "    -Удвоение.\n",
    "\n",
    "    -Звездный шаг.\n",
    "\n",
    "    -Малый шаг.\n",
    "\n",
    "**Свойства шагов:**\n",
    "\n",
    "    -Первый шаг - всегда удвоение.\n",
    "\n",
    "    -Удвоение - звездный шаг, но никогда не малый шаг.\n",
    "\n",
    "    -За удвоением всегда следует звездный шаг."
   ]
  },
  {
   "cell_type": "markdown",
   "metadata": {},
   "source": [
    "## Постановка задачи\n",
    "\n",
    "Реализовать точные и приближённые алгоритмы нахождения минимальных аддитивных цепочек с использованием системы компьютерной математики SageMath, провести анализ алгоритмов. Полученные результаты содержательно проинтерпретировать."
   ]
  },
  {
   "cell_type": "markdown",
   "metadata": {},
   "source": [
    "## Выполнение работы\n",
    "\n",
    "1. Ручное вычисление бинарным методом и методом множителей:\n"
   ]
  },
  {
   "cell_type": "markdown",
   "metadata": {},
   "source": [
    "\n",
    "\n",
    "**Бинарный метод:**\n",
    "\n",
    " $n_{1} = 32_{10} = 1|00000_{2} -> SSSSS$\n",
    " $ x, x^2, x^4, x^8, x^16, x^32$ - 5 операций\n",
    "  \n",
    "  $n_{2} = 64_{10} = 1|00000_{2} -> SSSSSS$\n",
    " $ x, x^2, x^4, x^8, x^16, x^32, x^64$ - 6 операций\n",
    "  \n",
    " $ n_{3} = 100_{10} = 1|100100_{2} -> SXSSSXSS$\n",
    " $ x, x^2, x^3, x^6, x^12, x^24, x^25, x^50, x^100$ - 8 операций\n",
    "  \n",
    "  \n",
    "**Метод множителей:**\n",
    "\n",
    " $ n1 = 32 =2 * 16    x, x^2$ - 1 операция\n",
    " $ x^2=y  ((y^2)^2)^2  y, y^2, y^4, y^8$ - 3 операции\n",
    " \n",
    "  в сумме 4 операции\n",
    "  \n",
    " $ n2 = 64 =2 * 32    x, x^2$ - 1 операция\n",
    " $ x^2=y  ((y^2)^2)^2)^2  y, y^2, y^4, y^8, y^16$ - 4 операции\n",
    " \n",
    "  в сумме 5 операции\n",
    "  \n",
    "  $n3 = 100 =2 * 50    x, x^2$ - 1 операция\n",
    " $ x^2=y  ((((y^2) * y)^2)^2)^2) * y)^2  y, y^2, y^3, y^6, y^12, y^24, y^25, y^50$ - 7 операции\n",
    " \n",
    "  в сумме 8 операции"
   ]
  },
  {
   "cell_type": "markdown",
   "metadata": {},
   "source": [
    "## Реализация алгоритма Брауэра"
   ]
  },
  {
   "cell_type": "code",
   "execution_count": null,
   "metadata": {
    "scrolled": true
   },
   "outputs": [],
   "source": [
    "print(\"Введите значение степени х\")\n",
    "n = int(input())\n",
    "print(\"введите значение k\")\n",
    "k = int(input())\n",
    "print(\"введите систему счисления\")\n",
    "d = int(input())\n",
    "b = ''\n",
    "p=0\n",
    "while n > 0:\n",
    "    b = str(n % d) + b\n",
    "    n = n // d\n",
    "    p=p+1\n",
    "    \n",
    "b = int(b)\n",
    "print(b)\n",
    "rang = p\n",
    "r= b%10\n",
    "roof = 0\n",
    "B=0\n",
    "B = B+r\n",
    "print(r)\n",
    "while(p>1):\n",
    "    p=p-1\n",
    "    x=10**(p+1)\n",
    "    y=10**(p)\n",
    "    nom = (b%x)//y\n",
    "    if(roof<k):\n",
    "        B=B*2\n",
    "        roof=roof+1\n",
    "    else:\n",
    "        B=B+nom\n",
    "        roof=0\n",
    "    print(B)"
   ]
  },
  {
   "cell_type": "markdown",
   "metadata": {},
   "source": [
    "## Реализация алгоритма дробления"
   ]
  },
  {
   "cell_type": "code",
   "execution_count": null,
   "metadata": {
    "scrolled": true
   },
   "outputs": [],
   "source": [
    "def nu(А): \n",
    "    А = Integer(А)\n",
    "    return А.popcount()"
   ]
  },
  {
   "cell_type": "code",
   "execution_count": null,
   "metadata": {
    "scrolled": true
   },
   "outputs": [],
   "source": [
    "def create_part(E, Burt): #создание вектора\n",
    "    put1 = []\n",
    "    put2 = []\n",
    "    for i in range(1, E + 1):\n",
    "        if i <= int(Burt):\n",
    "            put1.append(i)\n",
    "        else:\n",
    "            put2.append(i)\n",
    "    return [put1, put2]"
   ]
  },
  {
   "cell_type": "code",
   "execution_count": null,
   "metadata": {
    "scrolled": true
   },
   "outputs": [],
   "source": [
    "def che(vec): #число вектора\n",
    "    line = []\n",
    "    line.append(1)\n",
    "    for i in range(len(vec)):\n",
    "        line.append(line[i] + line[vec[i] - 1])\n",
    "    return line[len(line) - 1]"
   ]
  },
  {
   "cell_type": "code",
   "execution_count": null,
   "metadata": {
    "scrolled": true
   },
   "outputs": [],
   "source": [
    "def dec(vec):#декременация вектора \n",
    "    sun = len(vec)\n",
    "    for i in range(sun):\n",
    "        if vec[sun - i - 1] > 1:\n",
    "            vec[sun - i - 1] -= 1\n",
    "            for j in range(sun - i, sun):\n",
    "                vec[j] = j + 1\n",
    "            break"
   ]
  },
  {
   "cell_type": "code",
   "execution_count": null,
   "metadata": {
    "scrolled": true
   },
   "outputs": [],
   "source": [
    "\n",
    "def generate_part(sun, first):#создание части вектора\n",
    "    part = [0]*sun\n",
    "    for i in range(sun):\n",
    "        part[i] = first + i\n",
    "    return part"
   ]
  },
  {
   "cell_type": "code",
   "execution_count": null,
   "metadata": {
    "scrolled": true
   },
   "outputs": [],
   "source": [
    "def get_chain(vec):\n",
    "    line = []\n",
    "    line.append(1)\n",
    "    for i in range(len(vec)): #создание цепочки\n",
    "        line.append(line[i] + line[vec[i] - 1])\n",
    "    return line"
   ]
  },
  {
   "cell_type": "code",
   "execution_count": null,
   "metadata": {
    "scrolled": true
   },
   "outputs": [],
   "source": [
    "def dect(vec):#возможно ли \n",
    "    for i in vec:\n",
    "        if i > 1:\n",
    "            return False\n",
    "    return True"
   ]
  },
  {
   "cell_type": "code",
   "execution_count": null,
   "metadata": {
    "scrolled": true
   },
   "outputs": [],
   "source": [
    "def randy(n):\n",
    "    dmin = math.ceil(math.log2(n)) #минимум\n",
    "    dmax = int(math.log2(n) + nu(n)) #максимум\n",
    "    for E in range(dmin, dmax):#перебор всех длин векторов\n",
    "        q = int(E/2)\n",
    "        vec = create_part(E, q)\n",
    "        fix = generate_part(q, 1)\n",
    "        \n",
    "        while True: # перебор всех возможных фикс частей\n",
    "            change = generate_part(E - q, q + 1)\n",
    "            track = [0]*2\n",
    "            a = che(fix)\n",
    "            track[0] = a + E - q\n",
    "            track[1] = a * 2 ** (E - q)\n",
    "\n",
    "            \n",
    "            if n < track[0] or n > track[1]:\n",
    "                if dect(fix) and len(fix) > 1:\n",
    "                    break\n",
    "                dec(fix)\n",
    "                continue\n",
    "                \n",
    "            while True:\n",
    "                if che(fix + change) == n:  #перебор\n",
    "                    return fix + change\n",
    "                if dect(change):\n",
    "                    break\n",
    "                dec(change)\n",
    "            if dect(fix):\n",
    "                break\n",
    "            dec(fix)  "
   ]
  },
  {
   "cell_type": "code",
   "execution_count": null,
   "metadata": {
    "scrolled": true
   },
   "outputs": [],
   "source": [
    "n = int(input())\n",
    "Joe = randy(n)\n",
    "print(\"Ваш вектор:  \", Joe)\n",
    "print(\"Ваша цепочка:\", get_chain(Joe))"
   ]
  },
  {
   "cell_type": "markdown",
   "metadata": {},
   "source": [
    "## Гипотеза Шольца-Брауэра\n"
   ]
  },
  {
   "cell_type": "code",
   "execution_count": null,
   "metadata": {
    "scrolled": true
   },
   "outputs": [],
   "source": [
    "for i in range(1, 13):\n",
    "    Frost = randy(i)\n",
    "    Axe = randy(2**i - 1)\n",
    "    Bait = get_chain(Frost)\n",
    "    Block = get_chain(Axe)\n",
    "    print(len(Block) <= i - 1 + len(Bait))"
   ]
  },
  {
   "cell_type": "markdown",
   "metadata": {},
   "source": [
    "|  n  | l*(n) | l*(2^n-1) | Работает |\n",
    "|-----|-------|-----------|----------|\n",
    "| 1   | 1     | 1         | Верно    |\n",
    "| 2   | 2     | 3         | Верно    |\n",
    "| 3   | 3     | 5         | Верно    |\n",
    "| 4   | 3     | 6         | Верно    |\n",
    "| 5   | 4     | 8         | Верно    |\n",
    "| 6   | 4     | 9         | Верно    |\n",
    "| 7   | 5     | 11        | Верно    |\n",
    "| 8   | 4     | 11        | Верно    |\n",
    "| 9   | 5     | 13        | Верно    |\n",
    "| 10  | 5     | 14        | Верно    |\n",
    "| 11  | 6     | 16        | Верно    |\n",
    "| 12  | 5     | 16        | Верно    |\n"
   ]
  },
  {
   "cell_type": "markdown",
   "metadata": {},
   "source": [
    "## Вывод\n",
    "В данной работе были исследованы алгоритмы построения минимальных аддитивных цепочек для различных чисел. Были реализованы алгоритмы Брауэра и дробления вектора индексов. С помощью алгоритма дробления вектора индексов была проверена гипотеза Шольца-Брауэра для чисел от 1 до 12"
   ]
  },
  {
   "cell_type": "code",
   "execution_count": null,
   "metadata": {},
   "outputs": [],
   "source": []
  }
 ],
 "metadata": {
  "kernelspec": {
   "display_name": "SageMath 9.3",
   "language": "sage",
   "name": "sagemath"
  },
  "language_info": {
   "codemirror_mode": {
    "name": "ipython",
    "version": 3
   },
   "file_extension": ".py",
   "mimetype": "text/x-python",
   "name": "python",
   "nbconvert_exporter": "python",
   "pygments_lexer": "ipython3",
   "version": "3.7.10"
  }
 },
 "nbformat": 4,
 "nbformat_minor": 4
}
